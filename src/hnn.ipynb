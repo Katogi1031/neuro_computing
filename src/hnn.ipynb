{
 "cells": [
  {
   "cell_type": "markdown",
   "metadata": {},
   "source": [
    "### Hopfield Networks\n",
    "#### 課題Ⅰ\n",
    "##### Ⅰ- 1\n",
    "1. 2つのパターンを与え、重み行列wを作成\n",
    "2. エネルギー関数を用いて想起させる(平衡状態)\n",
    "3. 0.1程度のノイズを加えたテストデータを与え、正しく記憶できているか確認\n",
    "\n",
    "##### Ⅰ- 2\n",
    "1. 記憶させるパターン数を増やしていく\n",
    "2. どの程度までパターン数を増やせるか調査"
   ]
  },
  {
   "cell_type": "code",
   "execution_count": 14,
   "metadata": {},
   "outputs": [],
   "source": [
    "import numpy as np\n",
    "np.random.seed(1)\n",
    "import matplotlib.pyplot as plt"
   ]
  },
  {
   "cell_type": "code",
   "execution_count": 21,
   "metadata": {},
   "outputs": [],
   "source": [
    "\"\"\" 重み行列Wを計算 \"\"\"\n",
    "def fit(dim, data):\n",
    "    w = np.zeros([dim, dim])\n",
    "    print(w.shape)\n",
    "    for i in data:\n",
    "        w += np.outer(i, i.T)\n",
    "    for i in range(dim):\n",
    "        # 対角成分を0にする\n",
    "        w[i][i] = 0\n",
    "    return w\n",
    "\n",
    "\n",
    "\n"
   ]
  },
  {
   "cell_type": "code",
   "execution_count": 3,
   "metadata": {},
   "outputs": [],
   "source": [
    "''' エネルギー関数E(x)を定義し、収束するまで繰り返す '''\n",
    "def energy(self, data, w):\n",
    "    e = -0.5 * np.dot(w, np.dot(data, data.T))\n"
   ]
  },
  {
   "cell_type": "code",
   "execution_count": 5,
   "metadata": {},
   "outputs": [],
   "source": [
    "# \"\"\" テストデータから想起する \"\"\"\n",
    "# def recollect(test_data):\n",
    "    "
   ]
  },
  {
   "cell_type": "code",
   "execution_count": 16,
   "metadata": {},
   "outputs": [],
   "source": [
    "# \"\"\" データにノイズを加える \"\"\"\n",
    "def noise(noise, data):\n",
    "    for i, d in enumerate(data):\n",
    "        corrupted = np.copy(d)\n",
    "        inv = np.random.binomial(n=1, p=noise, size=len(d))\n",
    "\n",
    "        for j, v in enumerate(d):\n",
    "            if inv[j]:\n",
    "                corrupted[j] = -1 * v\n",
    "    return corrupted"
   ]
  },
  {
   "cell_type": "code",
   "execution_count": 36,
   "metadata": {},
   "outputs": [
    {
     "name": "stdout",
     "output_type": "stream",
     "text": [
      "(63, 63)\n",
      "[[[-1 -1 -1 -1 -1 -1 -1]\n",
      "  [-1  1  1  1  1  1 -1]\n",
      "  [-1 -1 -1 -1 -1  1 -1]\n",
      "  [-1 -1 -1 -1 -1  1 -1]\n",
      "  [-1  1  1  1  1  1 -1]\n",
      "  [-1  1 -1 -1 -1 -1 -1]\n",
      "  [-1  1 -1 -1 -1 -1 -1]\n",
      "  [-1  1  1  1  1  1 -1]\n",
      "  [-1 -1 -1 -1 -1 -1 -1]]\n",
      "\n",
      " [[-1 -1 -1 -1 -1 -1 -1]\n",
      "  [-1  1  1  1  1  1 -1]\n",
      "  [-1  1 -1 -1 -1  1 -1]\n",
      "  [-1  1 -1 -1 -1  1 -1]\n",
      "  [-1  1  1  1  1  1 -1]\n",
      "  [-1 -1 -1 -1 -1  1 -1]\n",
      "  [-1 -1 -1 -1 -1  1 -1]\n",
      "  [-1 -1 -1 -1 -1  1 -1]\n",
      "  [-1 -1 -1 -1 -1 -1 -1]]]\n"
     ]
    }
   ],
   "source": [
    "import numpy as np\n",
    "\n",
    "two = np.array([\n",
    "                [0, 0, 0, 0, 0, 0, 0],\n",
    "                [0,+1,+1,+1,+1,+1, 0],\n",
    "                [0, 0, 0, 0, 0,+1, 0],\n",
    "                [0, 0, 0, 0, 0,+1, 0],\n",
    "                [0,+1,+1,+1,+1,+1, 0],  \n",
    "                [0,+1, 0, 0, 0, 0, 0],\n",
    "                [0,+1, 0, 0, 0, 0, 0],\n",
    "                [0,+1,+1,+1,+1,+1, 0],\n",
    "                [0, 0, 0, 0, 0, 0, 0]])\n",
    "\n",
    "nine=np.array([ \n",
    "                [0, 0, 0, 0, 0, 0, 0],\n",
    "                [0,+1,+1,+1,+1,+1, 0],\n",
    "                [0,+1, 0, 0, 0,+1, 0],\n",
    "                [0,+1, 0, 0, 0,+1, 0],\n",
    "                [0,+1,+1,+1,+1,+1, 0],\n",
    "                [0, 0, 0, 0, 0,+1, 0],\n",
    "                [0, 0, 0, 0, 0,+1, 0],\n",
    "                [0, 0, 0, 0, 0,+1, 0],\n",
    "                [0, 0, 0, 0, 0, 0, 0]\n",
    "                ])\n",
    "\n",
    "# data = np.array([[\n",
    "#         0, 0, 0, 0, 0, 0, 0,\n",
    "#         0,+1,+1,+1,+1,+1, 0,\n",
    "#         0, 0, 0, 0, 0,+1, 0,\n",
    "#         0, 0, 0, 0, 0,+1, 0,\n",
    "#         0,+1,+1,+1,+1,+1, 0,  \n",
    "#         0,+1, 0, 0, 0, 0, 0,\n",
    "#         0,+1, 0, 0, 0, 0, 0,\n",
    "#         0,+1,+1,+1,+1,+1, 0,\n",
    "#         0, 0, 0, 0, 0, 0, 0\n",
    "#     ], \n",
    "#     [\n",
    "#         0, 0, 0, 0, 0, 0, 0,\n",
    "#         0,+1,+1,+1,+1,+1, 0,\n",
    "#         0,+1, 0, 0, 0,+1, 0,\n",
    "#         0,+1, 0, 0, 0,+1, 0,\n",
    "#         0,+1,+1,+1,+1,+1, 0,\n",
    "#         0, 0, 0, 0, 0,+1, 0,\n",
    "#         0, 0, 0, 0, 0,+1, 0,\n",
    "#         0, 0, 0, 0, 0,+1, 0,\n",
    "#         0, 0, 0, 0, 0, 0, 0\n",
    "#     ]\n",
    "# ])\n",
    "\n",
    "two = [2 * i - 1 for i in two]\n",
    "nine = [2 * i - 1 for i in nine]\n",
    "data = np.stack([two, nine])\n",
    "# ニューロン数\n",
    "n = 63\n",
    "# 記憶させたいパターン数\n",
    "k = 2\n",
    "\n",
    "w = fit(n, data)\n",
    "# print(w)\n",
    "test_data = noise(0.1, data[0])\n",
    "\n",
    "\n",
    "# np.save('test.npy', w)\n"
   ]
  },
  {
   "cell_type": "code",
   "execution_count": 49,
   "metadata": {},
   "outputs": [],
   "source": [
    "# np.set_printoptions(threshold=np.inf)\n",
    "# print(np.load('./test.npy'))\n",
    "wData = np.load('./test.npy')"
   ]
  },
  {
   "cell_type": "code",
   "execution_count": 52,
   "metadata": {},
   "outputs": [
    {
     "data": {
      "image/png": "[encoded data removed]",
      "text/plain": [
       "<Figure size 432x288 with 1 Axes>"
      ]
     },
     "metadata": {
      "needs_background": "light"
     },
     "output_type": "display_data"
    }
   ],
   "source": [
    "import matplotlib.pyplot as plt\n",
    "plt.imshow(wData)\n",
    "plt.gray()\n",
    "plt.show()"
   ]
  },
  {
   "cell_type": "code",
   "execution_count": 20,
   "metadata": {},
   "outputs": [
    {
     "name": "stdout",
     "output_type": "stream",
     "text": [
      "[[-1  1  1  1  1  1 -1  1  1  1  1  1 -1  1  1  1  1  1 -1  1  1  1  1  1\n",
      "  -1]\n",
      " [ 1 -1 -1 -1  1 -1  1  1  1 -1 -1  1  1  1 -1 -1  1  1  1 -1  1 -1 -1 -1\n",
      "   1]\n",
      " [ 1  1 -1  1  1  1  1 -1  1  1  1  1 -1  1  1  1  1 -1  1  1  1  1 -1  1\n",
      "   1]\n",
      " [ 1 -1 -1  1  1 -1  1  1 -1  1  1  1 -1  1  1  1 -1  1  1  1 -1 -1 -1 -1\n",
      "  -1]\n",
      " [-1  1  1  1  1 -1  1  1 -1  1 -1  1  1 -1  1 -1 -1 -1 -1 -1  1  1  1 -1\n",
      "   1]\n",
      " [-1 -1 -1 -1 -1 -1  1  1  1 -1  1  1  1 -1  1  1  1  1 -1  1  1  1 -1  1\n",
      "   1]]\n"
     ]
    }
   ],
   "source": [
    "import numpy as np\n",
    "data = np.load('train_data.npy', allow_pickle=True)\n",
    "# print(len(data))\n",
    "print(data)\n",
    "\n",
    "# for j in range(len(data)):\n",
    "#     for i, d in enumerate(data[j]):\n",
    "#         print(f\"{d:3d} \", end=\"\")\n",
    "#         if i % 5 == 4 and i != 0:\n",
    "#             print(\"\\n\")\n",
    "#     print('\\n')"
   ]
  },
  {
   "cell_type": "code",
   "execution_count": 75,
   "metadata": {},
   "outputs": [],
   "source": [
    "def get_corrupted_input(input, corruption_level):\n",
    "    \"\"\"\n",
    "    入力にノイズを付与\n",
    "    \"\"\"\n",
    "    corrupted = np.copy(input)\n",
    "    inv = np.random.binomial(n=1, p=corruption_level, size=len(input))\n",
    "    for i, v in enumerate(input):\n",
    "        if inv[i]:\n",
    "            corrupted[i] = -1 * v\n",
    "    return corrupted"
   ]
  },
  {
   "cell_type": "code",
   "execution_count": 69,
   "metadata": {},
   "outputs": [
    {
     "name": "stdout",
     "output_type": "stream",
     "text": [
      "9\n",
      "  0  0  0  0  0  0  0\n",
      "\n",
      "  0  1  1  1  1  1  0\n",
      "\n",
      "  0  0  0  0  0  1  0\n",
      "\n",
      "  0  0  0  0  0  1  0\n",
      "\n",
      "  0  1  1  1  1  1  0\n",
      "\n",
      "  0 -1  0  0  0  0  0\n",
      "\n",
      "  0  1  0  0  0  0  0\n",
      "\n",
      "  0  1  1  1  1  1  0\n",
      "\n",
      "  0  0  0  0  0  0  0\n",
      "\n",
      "一致率 : 0.984127\n"
     ]
    }
   ],
   "source": [
    "two = np.array([\n",
    "                [0, 0, 0, 0, 0, 0, 0],\n",
    "                [0,+1,+1,+1,+1,+1, 0],\n",
    "                [0, 0, 0, 0, 0,+1, 0],\n",
    "                [0, 0, 0, 0, 0,+1, 0],\n",
    "                [0,+1,+1,+1,+1,+1, 0],  \n",
    "                [0,+1, 0, 0, 0, 0, 0],\n",
    "                [0,+1, 0, 0, 0, 0, 0],\n",
    "                [0,+1,+1,+1,+1,+1, 0],\n",
    "                [0, 0, 0, 0, 0, 0, 0]])\n",
    "print(two.shape[0])\n",
    "data = two.flatten()\n",
    "test_data = test_make(data)\n",
    "for i, v in enumerate(test_data):\n",
    "    if i % 7 == 0 and i != 0:\n",
    "        print('\\n')\n",
    "    print(f\"{v:3d}\", end=\"\")\n",
    "print(\"\\n\")\n",
    "cnt = 0\n",
    "for i in range(63):\n",
    "    if test_data[i] != data[i]:\n",
    "        cnt += 1\n",
    "print(f\"一致率 : {1 - cnt/n:2f}\")\n",
    "# print(test_data)\n",
    "# test_data = [get_corrupted_input(d, 0.5) for d in two]"
   ]
  },
  {
   "cell_type": "code",
   "execution_count": 124,
   "metadata": {},
   "outputs": [],
   "source": [
    "test = get_corrupted_input(data, 0.2)\n",
    "# for i, v in enumerate(inv):\n",
    "#     if i % 7 == 0 and i != 0:\n",
    "#         print('\\n')\n",
    "#     print(f\"{v:3d}\", end=\"\")\n",
    "# print(\"\\n\")"
   ]
  },
  {
   "cell_type": "code",
   "execution_count": 125,
   "metadata": {},
   "outputs": [],
   "source": [
    "# for i, v in enumerate(test):\n",
    "#     if i % 7 == 0 and i != 0:\n",
    "#         print('\\n')\n",
    "#     print(f\"{v:3d}\", end=\"\")\n",
    "# print(\"\\n\")"
   ]
  },
  {
   "cell_type": "code",
   "execution_count": 126,
   "metadata": {},
   "outputs": [
    {
     "name": "stdout",
     "output_type": "stream",
     "text": [
      "一致率 : 0.888889\n"
     ]
    }
   ],
   "source": [
    "cnt = 0\n",
    "for i in range(63):\n",
    "    if test[i] != data[i]:\n",
    "        cnt += 1\n",
    "print(f\"一致率 : {1 - cnt/n:2f}\")"
   ]
  },
  {
   "cell_type": "code",
   "execution_count": null,
   "metadata": {},
   "outputs": [],
   "source": []
  },
  {
   "cell_type": "code",
   "execution_count": 65,
   "metadata": {},
   "outputs": [
    {
     "data": {
      "image/png": "[encoded data removed]",
      "text/plain": [
       "<Figure size 432x288 with 1 Axes>"
      ]
     },
     "metadata": {
      "needs_background": "light"
     },
     "output_type": "display_data"
    },
    {
     "data": {
      "image/png": "[encoded data removed]",
      "text/plain": [
       "<Figure size 432x288 with 1 Axes>"
      ]
     },
     "metadata": {
      "needs_background": "light"
     },
     "output_type": "display_data"
    }
   ],
   "source": [
    "import numpy as np\n",
    "import matplotlib.pyplot as plt\n",
    "np.random.seed(2)\n",
    "\n",
    "\n",
    "\"\"\" 重み行列Wを計算 \"\"\"\n",
    "def fit(dim, data):\n",
    "    w = np.zeros([dim, dim])\n",
    "    # for _ in range(10):\n",
    "    for i in data:\n",
    "        w += np.outer(i, i.T)\n",
    "\n",
    "    for i in range(dim):\n",
    "        w[i][i] = 0     # 対角成分を0にする\n",
    "    return w\n",
    "\n",
    "\"\"\" 学習データにノイズを与え、テストデータを作成 \"\"\"\n",
    "def noise(data, rate):\n",
    "    test_data = np.copy(data)\n",
    "    inv = np.random.binomial(n=1, p=rate, size=len(data))\n",
    "    for i, v in enumerate(data):\n",
    "        if inv[i]:\n",
    "            test_data[i] = -1 * v\n",
    "    return test_data\n",
    "\n",
    "''' エネルギー関数E(x)を定義し、収束するまで繰り返す '''\n",
    "def energy(data, w):\n",
    "    return -0.5 * np.dot(w, np.dot(data, data.T))\n",
    "    # return e\n",
    "\n",
    "\"\"\" エネルギーが変化しなくなるまで更新を行う \"\"\"\n",
    "# def predict(test_data, w, loop=100):\n",
    "#     e = energy(test_data, w)\n",
    "#     # test_data = np.dot(w, test_data)\n",
    "#     # test_data = np.sign(test_data)\n",
    "#     # e_new = energy(test_data, w)\n",
    "#     # if np.array_equal(e, e_new):\n",
    "#     #     print(\"a\")\n",
    "\n",
    "#     # print(e.shape, e_new.shape)\n",
    "#     for i in range(loop):\n",
    "#         test_data = np.dot(w, test_data)\n",
    "#         # xr の符号をとる\n",
    "#         test_data = np.sign(test_data)\n",
    "#         e_new = energy(test_data, w)\n",
    "#         if np.array_equal(e, e_new):\n",
    "#             print(i)\n",
    "#             return test_data\n",
    "#         e = e_new\n",
    "#     return test_data    \n",
    "\n",
    "def predict(test_data, w):\n",
    "    e_old = float(\"inf\")\n",
    "    for _ in range(300):  # self.loop_updateは更新の上限値\n",
    "        # テストデータの更新とエネルギーの計算\n",
    "        test_data = np.sign(np.dot(w, test_data))\n",
    "        e_new = energy(test_data, w)\n",
    "\n",
    "        # エネルギーが変化しなくなったら打ち切り\n",
    "        if np.array_equal(e_old, e_new):\n",
    "            break\n",
    "\n",
    "        e_old = e_new\n",
    "\n",
    "    return test_data\n",
    "        \n",
    "           \n",
    "            \n",
    "        \n",
    "    \n",
    "\n",
    "\n",
    "def main():\n",
    "    two = np.array([\n",
    "                [0, 0, 0, 0, 0, 0, 0],\n",
    "                [0,+1,+1,+1,+1,+1, 0],\n",
    "                [0, 0, 0, 0, 0,+1, 0],\n",
    "                [0, 0, 0, 0, 0,+1, 0],\n",
    "                [0,+1,+1,+1,+1,+1, 0],  \n",
    "                [0,+1, 0, 0, 0, 0, 0],\n",
    "                [0,+1, 0, 0, 0, 0, 0],\n",
    "                [0,+1,+1,+1,+1,+1, 0],\n",
    "                [0, 0, 0, 0, 0, 0, 0]])\n",
    "\n",
    "    nine=np.array([ \n",
    "                [0, 0, 0, 0, 0, 0, 0],\n",
    "                [0,+1,+1,+1,+1,+1, 0],\n",
    "                [0,+1, 0, 0, 0,+1, 0],\n",
    "                [0,+1, 0, 0, 0,+1, 0],\n",
    "                [0,+1,+1,+1,+1,+1, 0],\n",
    "                [0, 0, 0, 0, 0,+1, 0],\n",
    "                [0, 0, 0, 0, 0,+1, 0],\n",
    "                [0, 0, 0, 0, 0,+1, 0],\n",
    "                [0, 0, 0, 0, 0, 0, 0]\n",
    "                ])\n",
    "    one = np.array([ \n",
    "                [0, 0, 0, 0, 0, 0, 0],\n",
    "                [0, 0, 0,+1, 0, 0, 0],\n",
    "                [0, 0,+1,+1, 0, 0, 0],\n",
    "                [0, 0, 0,+1, 0, 0, 0],\n",
    "                [0, 0, 0,+1, 0, 0, 0],\n",
    "                [0, 0, 0,+1, 0, 0, 0],\n",
    "                [0, 0, 0,+1, 0, 0, 0],\n",
    "                [0,+1,+1,+1,+1,+1, 0],\n",
    "                [0, 0, 0, 0, 0, 0, 0]])\n",
    "\n",
    "    two = [2 * i - 1 for i in two]\n",
    "    nine = [2 * i - 1 for i in nine]\n",
    "    one = [2 * i - 1 for i in one]\n",
    "    data = np.stack([one, two, nine])\n",
    "\n",
    "    # ニューロン数\n",
    "    n = 63\n",
    "    # 記憶させたいパターン数\n",
    "    k = 2\n",
    "    # 学習データにどの程度ノイズを加えるか\n",
    "    noise_rate = 0.1\n",
    "    w = fit(n, data)\n",
    "\n",
    "    \n",
    "    flatten_two = data[0].flatten()\n",
    "    test = noise(flatten_two, noise_rate)\n",
    "\n",
    "    flatten_test = test.reshape(9, 7)\n",
    "    plt.imshow(flatten_test)\n",
    "    plt.gray()\n",
    "    plt.show()\n",
    "\n",
    "    # for i, v in enumerate(test):\n",
    "    #     if i % 7 == 0 and i != 0:\n",
    "    #         print('\\n')\n",
    "    #     print(f\"{v:3d}\", end=\"\")\n",
    "    # print(\"\\n\")\n",
    "    \n",
    "    predicted = predict(test, w)\n",
    "    predicted = np.array(predicted, dtype='int')\n",
    "    \n",
    "    # for i, v in enumerate(predicted):\n",
    "    #     if i % 7 == 0 and i != 0:\n",
    "    #         print('\\n')\n",
    "    #     print(f\"{v:3d}\", end=\"\")\n",
    "    # print(\"\\n\")\n",
    "    flatten_predicted = predicted.reshape(9, 7)\n",
    "    plt.imshow(flatten_predicted)\n",
    "    plt.gray()\n",
    "    plt.show()\n",
    "\n",
    "if __name__ == '__main__':\n",
    "    main()"
   ]
  },
  {
   "cell_type": "code",
   "execution_count": 67,
   "metadata": {},
   "outputs": [],
   "source": [
    "data = [\n",
    "        np.array([\n",
    "                [0, 0, 0, 0, 0, 0, 0], \n",
    "                [0,+1,+1,+1,+1,+1, 0],\n",
    "                [0,+1, 0, 0, 0,+1, 0],\n",
    "                [0,+1, 0, 0, 0,+1, 0],\n",
    "                [0,+1, 0, 0, 0,+1, 0],\n",
    "                [0,+1, 0, 0, 0,+1, 0],\n",
    "                [0,+1, 0, 0, 0,+1, 0],\n",
    "                [0,+1,+1,+1,+1,+1, 0],\n",
    "                [0, 0, 0, 0, 0, 0, 0]]),\n",
    "\n",
    "        np.array([\n",
    "                [0, 0, 0, 0, 0, 0, 0],\n",
    "                [0, 0, 0,+1, 0, 0, 0],\n",
    "                [0, 0,+1,+1, 0, 0, 0],\n",
    "                [0, 0, 0,+1, 0, 0, 0],\n",
    "                [0, 0, 0,+1, 0, 0, 0],\n",
    "                [0, 0, 0,+1, 0, 0, 0],\n",
    "                [0, 0, 0,+1, 0, 0, 0],\n",
    "                [0,+1,+1,+1,+1,+1, 0],\n",
    "                [0, 0, 0, 0, 0, 0, 0]]),\n",
    "                \n",
    "\n",
    "        np.array([\n",
    "                [0,  0,  0,  0,  0,  0,  0],\n",
    "                [0, +1, +1, +1, +1, +1,  0],\n",
    "                [0,  0,  0,  0,  0, +1,  0],\n",
    "                [0,  0,  0,  0,  0, +1,  0],\n",
    "                [0, +1, +1, +1, +1, +1,  0],  \n",
    "                [0, +1,  0,  0,  0,  0,  0],\n",
    "                [0, +1,  0,  0,  0,  0,  0],\n",
    "                [0, +1, +1, +1, +1, +1,  0],\n",
    "                [0,  0,  0,  0,  0,  0,  0]]),\n",
    "\n",
    "        np.array([\n",
    "                [0,  0,  0,  0,  0,  0,  0],\n",
    "                [0, +1, +1, +1, +1, +1,  0],\n",
    "                [0,  0,  0,  0,  0, +1,  0],\n",
    "                [0,  0,  0,  0,  0, +1,  0],\n",
    "                [0,  0,  0, +1, +1, +1,  0], \n",
    "                [0,  0,  0,  0,  0, +1,  0],\n",
    "                [0,  0,  0,  0,  0, +1,  0],\n",
    "                [0, +1, +1, +1, +1, +1,  0],\n",
    "                [0,  0,  0,  0,  0,  0,  0]]),\n",
    "\n",
    "        np.array([\n",
    "                [0,  0,  0,  0,  0,  0,  0],\n",
    "                [0, +1,  0,  0,  0,  0,  0],\n",
    "                [0, +1,  0,  0,  0,  0,  0],\n",
    "                [0, +1,  0, +1,  0,  0,  0],\n",
    "                [0, +1, +1, +1, +1,  0,  0],\n",
    "                [0,  0,  0, +1,  0,  0,  0],\n",
    "                [0,  0,  0, +1,  0,  0,  0],\n",
    "                [0,  0,  0, +1,  0,  0,  0],\n",
    "                [0,  0,  0,  0,  0,  0,  0]]),\n",
    "\n",
    "        np.array([\n",
    "                [0,  0,  0,  0,  0,  0,  0],\n",
    "                [0, +1, +1, +1, +1, +1,  0],\n",
    "                [0, +1,  0,  0,  0,  0,  0],\n",
    "                [0, +1,  0,  0,  0,  0,  0],\n",
    "                [0, +1, +1, +1, +1, +1,  0],\n",
    "                [0,  0,  0,  0,  0, +1,  0],\n",
    "                [0,  0,  0,  0,  0, +1,  0],\n",
    "                [0, +1, +1, +1, +1, +1,  0],\n",
    "                [0,  0,  0,  0,  0,  0,  0]]),\n",
    "\n",
    "        np.array([\n",
    "                [0,  0,  0,  0,  0,  0,  0],\n",
    "                [0, +1, +1, +1, +1, +1,  0],\n",
    "                [0, +1,  0,  0,  0,  0,  0],\n",
    "                [0, +1,  0,  0,  0,  0,  0],\n",
    "                [0, +1, +1, +1, +1, +1,  0],\n",
    "                [0, +1,  0,  0,  0, +1,  0],\n",
    "                [0, +1,  0,  0,  0, +1,  0],\n",
    "                [0, +1, +1, +1, +1, +1,  0],\n",
    "                [0,  0,  0,  0,  0,  0,  0]]),\n",
    "\n",
    "        np.array([\n",
    "                [0,  0,  0,  0,  0,  0,  0],\n",
    "                [0, +1, +1, +1, +1, +1,  0],\n",
    "                [0,  0,  0,  0,  0, +1,  0],\n",
    "                [0,  0,  0,  0, +1,  0,  0],\n",
    "                [0,  0,  0, +1,  0,  0,  0],\n",
    "                [0,  0, +1,  0,  0,  0,  0],\n",
    "                [0, +1,  0,  0,  0,  0,  0],\n",
    "                [0, +1,  0,  0,  0,  0,  0],\n",
    "                [0,  0,  0,  0,  0,  0,  0]]),\n",
    "\n",
    "        np.array([\n",
    "                [0, 0, 0, 0, 0, 0, 0],\n",
    "                [0,+1,+1,+1,+1,+1, 0],\n",
    "                [0,+1, 0, 0, 0,+1, 0],\n",
    "                [0,+1, 0, 0, 0,+1, 0],\n",
    "                [0,+1,+1,+1,+1,+1, 0],\n",
    "                [0,+1, 0, 0, 0,+1, 0],\n",
    "                [0,+1, 0, 0, 0,+1, 0],\n",
    "                [0,+1,+1,+1,+1,+1, 0],\n",
    "                [0, 0, 0, 0, 0, 0, 0]]),\n",
    "\n",
    "        np.array([ \n",
    "                [0, 0, 0, 0, 0, 0, 0],\n",
    "                [0,+1,+1,+1,+1,+1, 0],\n",
    "                [0,+1, 0, 0, 0,+1, 0],\n",
    "                [0,+1, 0, 0, 0,+1, 0],\n",
    "                [0,+1,+1,+1,+1,+1, 0],\n",
    "                [0, 0, 0, 0, 0,+1, 0],\n",
    "                [0, 0, 0, 0, 0,+1, 0],\n",
    "                [0, 0, 0, 0, 0,+1, 0],\n",
    "                [0, 0, 0, 0, 0, 0, 0]])\n",
    "]"
   ]
  },
  {
   "cell_type": "code",
   "execution_count": 68,
   "metadata": {},
   "outputs": [],
   "source": [
    "np.save('numbers.npy', data)"
   ]
  },
  {
   "cell_type": "code",
   "execution_count": 69,
   "metadata": {},
   "outputs": [
    {
     "data": {
      "text/plain": [
       "array([[0, 0, 0, 0, 0, 0, 0],\n",
       "       [0, 1, 1, 1, 1, 1, 0],\n",
       "       [0, 1, 0, 0, 0, 1, 0],\n",
       "       [0, 1, 0, 0, 0, 1, 0],\n",
       "       [0, 1, 0, 0, 0, 1, 0],\n",
       "       [0, 1, 0, 0, 0, 1, 0],\n",
       "       [0, 1, 0, 0, 0, 1, 0],\n",
       "       [0, 1, 1, 1, 1, 1, 0],\n",
       "       [0, 0, 0, 0, 0, 0, 0]])"
      ]
     },
     "execution_count": 69,
     "metadata": {},
     "output_type": "execute_result"
    }
   ],
   "source": [
    "data = np.load('numbers.npy')\n"
   ]
  },
  {
   "cell_type": "code",
   "execution_count": 70,
   "metadata": {},
   "outputs": [
    {
     "data": {
      "text/plain": [
       "(10, 9, 7)"
      ]
     },
     "execution_count": 70,
     "metadata": {},
     "output_type": "execute_result"
    }
   ],
   "source": [
    "data.shape"
   ]
  },
  {
   "cell_type": "code",
   "execution_count": 80,
   "metadata": {},
   "outputs": [
    {
     "name": "stdout",
     "output_type": "stream",
     "text": [
      "テストデータ\n"
     ]
    },
    {
     "data": {
      "image/png": "[encoded data removed]",
      "text/plain": [
       "<Figure size 432x288 with 1 Axes>"
      ]
     },
     "metadata": {
      "needs_background": "light"
     },
     "output_type": "display_data"
    },
    {
     "name": "stdout",
     "output_type": "stream",
     "text": [
      "想起\n"
     ]
    },
    {
     "data": {
      "image/png": "[encoded data removed]",
      "text/plain": [
       "<Figure size 432x288 with 1 Axes>"
      ]
     },
     "metadata": {
      "needs_background": "light"
     },
     "output_type": "display_data"
    }
   ],
   "source": [
    "import numpy as np\n",
    "import matplotlib.pyplot as plt\n",
    "np.random.seed(2)\n",
    "\n",
    "\n",
    "\"\"\" 重み行列Wを計算 \"\"\"\n",
    "def fit(dim, data):\n",
    "    w = np.zeros([dim, dim])\n",
    "    # for _ in range(10):\n",
    "    for i in data:\n",
    "        w += np.outer(i, i.T)\n",
    "\n",
    "    for i in range(dim):\n",
    "        w[i][i] = 0     # 対角成分を0にする\n",
    "    return w\n",
    "\n",
    "\"\"\" 学習データにノイズを与え、テストデータを作成 \"\"\"\n",
    "def noise(data, rate):\n",
    "    test_data = np.copy(data)\n",
    "    inv = np.random.binomial(n=1, p=rate, size=len(data))\n",
    "    for i, v in enumerate(data):\n",
    "        if inv[i]:\n",
    "            test_data[i] = -1 * v\n",
    "    return test_data\n",
    "\n",
    "''' エネルギー関数E(x)を定義し、収束するまで繰り返す '''\n",
    "def energy(data, w):\n",
    "    return -0.5 * np.dot(w, np.dot(data, data.T))\n",
    "    \n",
    "\n",
    "\"\"\" エネルギーが変化しなくなるまで更新を行う \"\"\"\n",
    "def predict(test_data, w):\n",
    "    e_old = float(\"inf\")\n",
    "    for _ in range(3000):  # self.loop_updateは更新の上限値\n",
    "        # テストデータの更新とエネルギーの計算\n",
    "        test_data = np.sign(np.dot(w, test_data))\n",
    "        e_new = energy(test_data, w)\n",
    "\n",
    "        # エネルギーが変化しなくなったら打ち切り\n",
    "        if np.array_equal(e_old, e_new):\n",
    "            break\n",
    "\n",
    "        e_old = e_new\n",
    "\n",
    "    return test_data\n",
    "\n",
    "\n",
    "def main():\n",
    "    arr = np.load('numbers.npy')\n",
    "\n",
    "    two = [2 * i - 1 for i in arr[2]]\n",
    "    nine = [2 * i - 1 for i in arr[9]]\n",
    "    # one = [2 * i - 1 for i in one]\n",
    "    data = np.stack([two, nine])\n",
    "\n",
    "    # ニューロン数\n",
    "    n = 63\n",
    "    # 記憶させたいパターン数\n",
    "    k = 2\n",
    "    # 学習データにどの程度ノイズを加えるか\n",
    "    noise_rate = 0.1\n",
    "    w = fit(n, data)\n",
    "\n",
    "    \n",
    "    flatten_two = data[0].flatten()\n",
    "    test = noise(flatten_two, noise_rate)\n",
    "\n",
    "    flatten_test = test.reshape(9, 7)\n",
    "    print(\"テストデータ\")\n",
    "    plt.imshow(flatten_test)\n",
    "    plt.gray()\n",
    "    plt.show()\n",
    "    \n",
    "    predicted = predict(test, w)\n",
    "    predicted = np.array(predicted, dtype='int')\n",
    "    \n",
    "    flatten_predicted = predicted.reshape(9, 7)\n",
    "    print(\"想起\")\n",
    "    plt.imshow(flatten_predicted)\n",
    "    plt.gray()\n",
    "    plt.show()\n",
    "\n",
    "if __name__ == '__main__':\n",
    "    main()"
   ]
  },
  {
   "cell_type": "code",
   "execution_count": 81,
   "metadata": {},
   "outputs": [],
   "source": [
    "data = [\n",
    "        np.array([\n",
    "                0, 0, 0, 0, 0, 0, 0, \n",
    "                0,+1,+1,+1,+1,+1, 0,\n",
    "                0,+1, 0, 0, 0,+1, 0,\n",
    "                0,+1, 0, 0, 0,+1, 0,\n",
    "                0,+1, 0, 0, 0,+1, 0,\n",
    "                0,+1, 0, 0, 0,+1, 0,\n",
    "                0,+1, 0, 0, 0,+1, 0,\n",
    "                0,+1,+1,+1,+1,+1, 0,\n",
    "                0, 0, 0, 0, 0, 0, 0]),\n",
    "\n",
    "        np.array([\n",
    "                0, 0, 0, 0, 0, 0, 0,\n",
    "                0, 0, 0,+1, 0, 0, 0,\n",
    "                0, 0,+1,+1, 0, 0, 0,\n",
    "                0, 0, 0,+1, 0, 0, 0,\n",
    "                0, 0, 0,+1, 0, 0, 0,\n",
    "                0, 0, 0,+1, 0, 0, 0,\n",
    "                0, 0, 0,+1, 0, 0, 0,\n",
    "                0,+1,+1,+1,+1,+1, 0,\n",
    "                0, 0, 0, 0, 0, 0, 0]),\n",
    "                \n",
    "\n",
    "        np.array([\n",
    "                0,  0,  0,  0,  0,  0,  0,\n",
    "                0, +1, +1, +1, +1, +1,  0,\n",
    "                0,  0,  0,  0,  0, +1,  0,\n",
    "                0,  0,  0,  0,  0, +1,  0,\n",
    "                0, +1, +1, +1, +1, +1,  0,  \n",
    "                0, +1,  0,  0,  0,  0,  0,\n",
    "                0, +1,  0,  0,  0,  0,  0,\n",
    "                0, +1, +1, +1, +1, +1,  0,\n",
    "                0,  0,  0,  0,  0,  0,  0]),\n",
    "\n",
    "        np.array([\n",
    "                0,  0,  0,  0,  0,  0,  0,\n",
    "                0, +1, +1, +1, +1, +1,  0,\n",
    "                0,  0,  0,  0,  0, +1,  0,\n",
    "                0,  0,  0,  0,  0, +1,  0,\n",
    "                0,  0,  0, +1, +1, +1,  0, \n",
    "                0,  0,  0,  0,  0, +1,  0,\n",
    "                0,  0,  0,  0,  0, +1,  0,\n",
    "                0, +1, +1, +1, +1, +1,  0,\n",
    "                0,  0,  0,  0,  0,  0,  0]),\n",
    "\n",
    "        np.array([\n",
    "                0,  0,  0,  0,  0,  0,  0,\n",
    "                0, +1,  0,  0,  0,  0,  0,\n",
    "                0, +1,  0,  0,  0,  0,  0,\n",
    "                0, +1,  0, +1,  0,  0,  0,\n",
    "                0, +1, +1, +1, +1,  0,  0,\n",
    "                0,  0,  0, +1,  0,  0,  0,\n",
    "                0,  0,  0, +1,  0,  0,  0,\n",
    "                0,  0,  0, +1,  0,  0,  0,\n",
    "                0,  0,  0,  0,  0,  0,  0]),\n",
    "\n",
    "        np.array([\n",
    "                0,  0,  0,  0,  0,  0,  0,\n",
    "                0, +1, +1, +1, +1, +1,  0,\n",
    "                0, +1,  0,  0,  0,  0,  0,\n",
    "                0, +1,  0,  0,  0,  0,  0,\n",
    "                0, +1, +1, +1, +1, +1,  0,\n",
    "                0,  0,  0,  0,  0, +1,  0,\n",
    "                0,  0,  0,  0,  0, +1,  0,\n",
    "                0, +1, +1, +1, +1, +1,  0,\n",
    "                0,  0,  0,  0,  0,  0,  0]),\n",
    "\n",
    "        np.array([\n",
    "                0,  0,  0,  0,  0,  0,  0,\n",
    "                0, +1, +1, +1, +1, +1,  0,\n",
    "                0, +1,  0,  0,  0,  0,  0,\n",
    "                0, +1,  0,  0,  0,  0,  0,\n",
    "                0, +1, +1, +1, +1, +1,  0,\n",
    "                0, +1,  0,  0,  0, +1,  0,\n",
    "                0, +1,  0,  0,  0, +1,  0,\n",
    "                0, +1, +1, +1, +1, +1,  0,\n",
    "                0,  0,  0,  0,  0,  0,  0]),\n",
    "\n",
    "        np.array([\n",
    "                0,  0,  0,  0,  0,  0,  0,\n",
    "                0, +1, +1, +1, +1, +1,  0,\n",
    "                0,  0,  0,  0,  0, +1,  0,\n",
    "                0,  0,  0,  0, +1,  0,  0,\n",
    "                0,  0,  0, +1,  0,  0,  0,\n",
    "                0,  0, +1,  0,  0,  0,  0,\n",
    "                0, +1,  0,  0,  0,  0,  0,\n",
    "                0, +1,  0,  0,  0,  0,  0,\n",
    "                0,  0,  0,  0,  0,  0,  0]),\n",
    "\n",
    "        np.array([\n",
    "                0, 0, 0, 0, 0, 0, 0,\n",
    "                0,+1,+1,+1,+1,+1, 0,\n",
    "                0,+1, 0, 0, 0,+1, 0,\n",
    "                0,+1, 0, 0, 0,+1, 0,\n",
    "                0,+1,+1,+1,+1,+1, 0,\n",
    "                0,+1, 0, 0, 0,+1, 0,\n",
    "                0,+1, 0, 0, 0,+1, 0,\n",
    "                0,+1,+1,+1,+1,+1, 0,\n",
    "                0, 0, 0, 0, 0, 0, 0]),\n",
    "\n",
    "        np.array([ \n",
    "                0, 0, 0, 0, 0, 0, 0,\n",
    "                0,+1,+1,+1,+1,+1, 0,\n",
    "                0,+1, 0, 0, 0,+1, 0,\n",
    "                0,+1, 0, 0, 0,+1, 0,\n",
    "                0,+1,+1,+1,+1,+1, 0,\n",
    "                0, 0, 0, 0, 0,+1, 0,\n",
    "                0, 0, 0, 0, 0,+1, 0,\n",
    "                0, 0, 0, 0, 0,+1, 0,\n",
    "                0, 0, 0, 0, 0, 0, 0])\n",
    "]"
   ]
  },
  {
   "cell_type": "code",
   "execution_count": 82,
   "metadata": {},
   "outputs": [],
   "source": [
    "np.save('numbers2.npy', data)"
   ]
  },
  {
   "cell_type": "code",
   "execution_count": 84,
   "metadata": {},
   "outputs": [
    {
     "data": {
      "text/plain": [
       "array([[0, 0, 0, 0, 0, 0, 0],\n",
       "       [0, 1, 1, 1, 1, 1, 0],\n",
       "       [0, 1, 0, 0, 0, 1, 0],\n",
       "       [0, 1, 0, 0, 0, 1, 0],\n",
       "       [0, 1, 0, 0, 0, 1, 0],\n",
       "       [0, 1, 0, 0, 0, 1, 0],\n",
       "       [0, 1, 0, 0, 0, 1, 0],\n",
       "       [0, 1, 1, 1, 1, 1, 0],\n",
       "       [0, 0, 0, 0, 0, 0, 0]])"
      ]
     },
     "execution_count": 84,
     "metadata": {},
     "output_type": "execute_result"
    }
   ],
   "source": [
    "data = np.load('numbers.npy')\n",
    "data[0]"
   ]
  },
  {
   "cell_type": "code",
   "execution_count": null,
   "metadata": {},
   "outputs": [],
   "source": []
  }
 ],
 "metadata": {
  "kernelspec": {
   "display_name": "Python 3.10.1 64-bit",
   "language": "python",
   "name": "python3"
  },
  "language_info": {
   "codemirror_mode": {
    "name": "ipython",
    "version": 3
   },
   "file_extension": ".py",
   "mimetype": "text/x-python",
   "name": "python",
   "nbconvert_exporter": "python",
   "pygments_lexer": "ipython3",
   "version": "3.10.1"
  },
  "orig_nbformat": 4,
  "vscode": {
   "interpreter": {
    "hash": "c76d614576bc661bb72ce1ae33c50d0efdb6712361ac55aa1354d9eaa9412dae"
   }
  }
 },
 "nbformat": 4,
 "nbformat_minor": 2
}
