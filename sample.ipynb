{
 "cells": [
  {
   "cell_type": "code",
   "execution_count": 4,
   "metadata": {},
   "outputs": [
    {
     "name": "stdout",
     "output_type": "stream",
     "text": [
      "(63, 63)\n",
      "[[0. 2. 2. ... 2. 2. 2.]\n",
      " [2. 0. 2. ... 2. 2. 2.]\n",
      " [2. 2. 0. ... 2. 2. 2.]\n",
      " ...\n",
      " [2. 2. 2. ... 0. 2. 2.]\n",
      " [2. 2. 2. ... 2. 0. 2.]\n",
      " [2. 2. 2. ... 2. 2. 0.]]\n"
     ]
    }
   ],
   "source": [
    "import numpy as np\n",
    "\n",
    "two = np.array([\n",
    "                [0, 0, 0, 0, 0, 0, 0],\n",
    "                [0,+1,+1,+1,+1,+1, 0],\n",
    "                [0, 0, 0, 0, 0,+1, 0],\n",
    "                [0, 0, 0, 0, 0,+1, 0],\n",
    "                [0,+1,+1,+1,+1,+1, 0],  \n",
    "                [0,+1, 0, 0, 0, 0, 0],\n",
    "                [0,+1, 0, 0, 0, 0, 0],\n",
    "                [0,+1,+1,+1,+1,+1, 0],\n",
    "                [0, 0, 0, 0, 0, 0, 0]])\n",
    "\n",
    "nine=np.array([ \n",
    "                [0, 0, 0, 0, 0, 0, 0],\n",
    "                [0,+1,+1,+1,+1,+1, 0],\n",
    "                [0,+1, 0, 0, 0,+1, 0],\n",
    "                [0,+1, 0, 0, 0,+1, 0],\n",
    "                [0,+1,+1,+1,+1,+1, 0],\n",
    "                [0, 0, 0, 0, 0,+1, 0],\n",
    "                [0, 0, 0, 0, 0,+1, 0],\n",
    "                [0, 0, 0, 0, 0,+1, 0],\n",
    "                [0, 0, 0, 0, 0, 0, 0]\n",
    "                ])\n",
    "\n",
    "two = [2 * i - 1 for i in two]\n",
    "nine = [2 * i - 1 for i in nine]\n",
    "data = np.stack([two, nine])\n",
    "# 次元数\n",
    "dim = 63\n",
    "# 記憶させたいパターン数\n",
    "k = 2\n",
    "\n",
    "'''\n",
    "エネルギー関数E(x)から平衡状態(W_ij)を求める\n",
    "'''\n",
    "w = np.zeros([dim, dim])\n",
    "print(w.shape)\n",
    "for i in data:\n",
    "    w += np.outer(i, i.T)\n",
    "for i in range(dim):\n",
    "    # 対角成分を0にする\n",
    "    w[i][i] = 0\n",
    "print(w)\n",
    "    \n"
   ]
  },
  {
   "cell_type": "code",
   "execution_count": null,
   "metadata": {},
   "outputs": [],
   "source": []
  }
 ],
 "metadata": {
  "kernelspec": {
   "display_name": "Python 3.10.1 64-bit",
   "language": "python",
   "name": "python3"
  },
  "language_info": {
   "codemirror_mode": {
    "name": "ipython",
    "version": 3
   },
   "file_extension": ".py",
   "mimetype": "text/x-python",
   "name": "python",
   "nbconvert_exporter": "python",
   "pygments_lexer": "ipython3",
   "version": "3.10.1"
  },
  "orig_nbformat": 4,
  "vscode": {
   "interpreter": {
    "hash": "c76d614576bc661bb72ce1ae33c50d0efdb6712361ac55aa1354d9eaa9412dae"
   }
  }
 },
 "nbformat": 4,
 "nbformat_minor": 2
}
