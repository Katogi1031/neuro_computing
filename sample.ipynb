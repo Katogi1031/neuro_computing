{
 "cells": [
  {
   "cell_type": "code",
   "execution_count": 1,
   "metadata": {},
   "outputs": [
    {
     "ename": "NameError",
     "evalue": "name 'w' is not defined",
     "output_type": "error",
     "traceback": [
      "\u001b[1;31m---------------------------------------------------------------------------\u001b[0m",
      "\u001b[1;31mNameError\u001b[0m                                 Traceback (most recent call last)",
      "\u001b[1;32mセル1 を c:\\Users\\atsuy\\OneDrive\\デスクトップ\\github\\neuro_computing\\sample.ipynb\u001b[0m in \u001b[0;36m<cell line: 35>\u001b[1;34m()\u001b[0m\n\u001b[0;32m     <a href='vscode-notebook-cell:/c%3A/Users/atsuy/OneDrive/%E3%83%87%E3%82%B9%E3%82%AF%E3%83%88%E3%83%83%E3%83%97/github/neuro_computing/sample.ipynb#W0sZmlsZQ%3D%3D?line=30'>31</a>\u001b[0m \u001b[39m# 記憶させたいパターン数\u001b[39;00m\n\u001b[0;32m     <a href='vscode-notebook-cell:/c%3A/Users/atsuy/OneDrive/%E3%83%87%E3%82%B9%E3%82%AF%E3%83%88%E3%83%83%E3%83%97/github/neuro_computing/sample.ipynb#W0sZmlsZQ%3D%3D?line=31'>32</a>\u001b[0m k \u001b[39m=\u001b[39m \u001b[39m2\u001b[39m\n\u001b[1;32m---> <a href='vscode-notebook-cell:/c%3A/Users/atsuy/OneDrive/%E3%83%87%E3%82%B9%E3%82%AF%E3%83%88%E3%83%83%E3%83%97/github/neuro_computing/sample.ipynb#W0sZmlsZQ%3D%3D?line=34'>35</a>\u001b[0m \u001b[39mprint\u001b[39m(w)\n",
      "\u001b[1;31mNameError\u001b[0m: name 'w' is not defined"
     ]
    }
   ],
   "source": [
    "import numpy as np\n",
    "\n",
    "two = np.array([\n",
    "                [0, 0, 0, 0, 0, 0, 0],\n",
    "                [0,+1,+1,+1,+1,+1, 0],\n",
    "                [0, 0, 0, 0, 0,+1, 0],\n",
    "                [0, 0, 0, 0, 0,+1, 0],\n",
    "                [0,+1,+1,+1,+1,+1, 0],  \n",
    "                [0,+1, 0, 0, 0, 0, 0],\n",
    "                [0,+1, 0, 0, 0, 0, 0],\n",
    "                [0,+1,+1,+1,+1,+1, 0],\n",
    "                [0, 0, 0, 0, 0, 0, 0]])\n",
    "\n",
    "nine=np.array([ \n",
    "                [0, 0, 0, 0, 0, 0, 0],\n",
    "                [0,+1,+1,+1,+1,+1, 0],\n",
    "                [0,+1, 0, 0, 0,+1, 0],\n",
    "                [0,+1, 0, 0, 0,+1, 0],\n",
    "                [0,+1,+1,+1,+1,+1, 0],\n",
    "                [0, 0, 0, 0, 0,+1, 0],\n",
    "                [0, 0, 0, 0, 0,+1, 0],\n",
    "                [0, 0, 0, 0, 0,+1, 0],\n",
    "                [0, 0, 0, 0, 0, 0, 0]\n",
    "                ])\n",
    "\n",
    "two = [2 * i - 1 for i in two]\n",
    "nine = [2 * i - 1 for i in nine]\n",
    "data = np.stack([two, nine])\n",
    "# 次元数\n",
    "dim = 63\n",
    "# 記憶させたいパターン数\n",
    "k = 2\n",
    "\n",
    "\n",
    "print(w)\n",
    "\n",
    "\n"
   ]
  },
  {
   "cell_type": "code",
   "execution_count": null,
   "metadata": {},
   "outputs": [],
   "source": [
    "\"\"\" 重み行列Wを計算 \"\"\"\n",
    "def fit(self, dim, data):\n",
    "    w = np.zeros([dim, dim])\n",
    "    print(w.shape)\n",
    "    for i in data:\n",
    "        w += np.outer(i, i.T)\n",
    "    for i in range(dim):\n",
    "        # 対角成分を0にする\n",
    "        w[i][i] = 0\n",
    "    return w"
   ]
  },
  {
   "cell_type": "code",
   "execution_count": null,
   "metadata": {},
   "outputs": [],
   "source": [
    "'''\n",
    "エネルギー関数E(x)を定義する\n",
    "'''\n",
    "def energy(self, data):\n",
    "    e = -0.5 * np.dot(w, np.dot(data, data.T))\n"
   ]
  },
  {
   "cell_type": "code",
   "execution_count": null,
   "metadata": {},
   "outputs": [],
   "source": []
  }
 ],
 "metadata": {
  "kernelspec": {
   "display_name": "Python 3.10.1 64-bit",
   "language": "python",
   "name": "python3"
  },
  "language_info": {
   "codemirror_mode": {
    "name": "ipython",
    "version": 3
   },
   "file_extension": ".py",
   "mimetype": "text/x-python",
   "name": "python",
   "nbconvert_exporter": "python",
   "pygments_lexer": "ipython3",
   "version": "3.10.1"
  },
  "orig_nbformat": 4,
  "vscode": {
   "interpreter": {
    "hash": "c76d614576bc661bb72ce1ae33c50d0efdb6712361ac55aa1354d9eaa9412dae"
   }
  }
 },
 "nbformat": 4,
 "nbformat_minor": 2
}
